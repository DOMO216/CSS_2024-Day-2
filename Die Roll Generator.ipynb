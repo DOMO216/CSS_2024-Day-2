#!/usr/bin/env python3
# -*- coding: utf-8 -*-
"""
Created on Tue Jan 30 09:45:28 2024

@author: thabangmolefi
"""

